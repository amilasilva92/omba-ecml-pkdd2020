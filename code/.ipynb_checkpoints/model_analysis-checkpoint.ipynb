{
 "cells": [
  {
   "cell_type": "code",
   "execution_count": 12,
   "metadata": {},
   "outputs": [],
   "source": [
    "import pickle\n",
    "from gensim.models import KeyedVectors\n",
    "from embed import *"
   ]
  },
  {
   "cell_type": "code",
   "execution_count": 33,
   "metadata": {
    "scrolled": true
   },
   "outputs": [],
   "source": [
    "VOCA_PATH= \"../data/data/la/model/voca.pkl\"\n",
    "vocab = pickle.load(open(VOCA_PATH, 'rb'))"
   ]
  },
  {
   "cell_type": "code",
   "execution_count": 35,
   "metadata": {},
   "outputs": [
    {
     "name": "stdout",
     "output_type": "stream",
     "text": [
      "19900\n"
     ]
    }
   ],
   "source": [
    "print(len(list(vocab)))"
   ]
  },
  {
   "cell_type": "code",
   "execution_count": 18,
   "metadata": {},
   "outputs": [],
   "source": [
    "def convert_loc(location, grid_len=0.003):\n",
    "    lat, lng = location\n",
    "    centroid_lat = round(lat - lat % grid_len + grid_len/2, 6)\n",
    "    centroid_lng = round(lng - lng % grid_len + grid_len/2, 6)\n",
    "    return (centroid_lat, centroid_lng)\n",
    "#convert_loc((33.717, -118.317))"
   ]
  },
  {
   "cell_type": "code",
   "execution_count": 27,
   "metadata": {},
   "outputs": [],
   "source": [
    "def generate_emb_file(vectors, type = 'w', dim = 300):\n",
    "    f = open(type + '_embeddings.emb', 'w')\n",
    "    num_words = len(list(vectors[type].keys()))\n",
    "    f.write(str(num_words) + ' ' + str(dim) + '\\n')\n",
    "    \n",
    "    for w in vectors[type].keys():\n",
    "        line = str(w) + ' '\n",
    "        line += ' '.join([str(item) for item in vectors[type][w]])\n",
    "        line += '\\n'\n",
    "        f.write(line)"
   ]
  },
  {
   "cell_type": "code",
   "execution_count": 74,
   "metadata": {},
   "outputs": [],
   "source": [
    "def query_results(vectors, query_type, query_value, result_type='w', topn = 10000):\n",
    "    generate_emb_file(vectors)\n",
    "    query_value = convert_loc(query_value)\n",
    "    # print(vectors['w']['universal'], vectors['w']['studio'])\n",
    "    # return None\n",
    "    query_vec = vectors[query_type][query_value]\n",
    "    emb_model = KeyedVectors.load_word2vec_format(result_type + '_embeddings.emb', binary=False)\n",
    "    count = 0\n",
    "    for item in emb_model.similar_by_vector(query_vec, topn=topn):\n",
    "        if item[0] in vocab:\n",
    "            print(item[0], item[1], count)\n",
    "            count += 1\n",
    "            \n",
    "        if count == 30:\n",
    "            break\n",
    "# query_results('l', (34.1381, -118.3534))"
   ]
  },
  {
   "cell_type": "code",
   "execution_count": 60,
   "metadata": {},
   "outputs": [
    {
     "name": "stdout",
     "output_type": "stream",
     "text": [
      "(array([-5.51783704e-01, -2.42588392e-01, -3.30704371e-01,  2.97323297e-02,\n",
      "        3.18582265e-01, -1.80834240e-01,  1.97445718e-02, -2.54214629e-01,\n",
      "       -2.89503865e-01,  2.17329730e-02, -2.55131489e-02,  5.97343436e-01,\n",
      "        6.60386699e-01,  3.80865711e-01,  3.11737973e-01,  8.33460740e-02,\n",
      "        1.19390338e-01,  7.55108413e-02,  7.45530894e-01, -7.77975935e-01,\n",
      "       -7.62048789e-02, -2.93741120e-01, -5.52218016e-01,  6.07053901e-02,\n",
      "        1.26245456e-03,  1.61537355e-01, -3.87360281e-02,  4.11231342e-01,\n",
      "        5.84666984e-01, -1.20237832e-01,  6.20329557e-01, -3.42546357e-03,\n",
      "       -5.11190602e-01,  3.09847085e-01,  3.05744513e-01,  1.39362187e-01,\n",
      "       -6.63469192e-02,  4.21392374e-02, -3.34309291e-01,  4.35993449e-01,\n",
      "        3.32957297e-01,  1.81197131e-01, -6.90722732e-01,  3.66523367e-01,\n",
      "        6.05528097e-02, -8.25288950e-01, -4.94746439e-01,  2.83444726e-01,\n",
      "       -1.26407752e-01, -4.72793526e-01, -3.12494371e-01,  5.47007852e-01,\n",
      "       -7.72473871e-01, -2.20063585e-01, -8.90267818e-01,  1.00225261e-01,\n",
      "        8.04691143e-01, -1.60349320e+00, -4.34979879e-01, -7.67774583e-01,\n",
      "       -4.72630448e-01, -4.28985678e-01,  5.48465509e-02,  1.52763548e-01,\n",
      "        2.51644584e-01, -7.89595719e-01, -1.01976185e-01, -7.08904327e-01,\n",
      "        2.60866354e-01, -1.83070212e-01, -6.05518972e-01,  3.55457486e-01,\n",
      "       -3.45899239e-01, -9.87176374e-02, -2.54312094e-01,  1.03213172e+00,\n",
      "       -3.17841898e-01, -1.22790699e+00,  1.44154536e-01,  3.98625302e-01,\n",
      "        3.95114490e-01, -2.78979796e-01,  2.46060036e-01, -1.22769222e+00,\n",
      "        5.27294600e-01, -3.51640268e-01,  6.58112885e-01,  4.03976245e-01,\n",
      "       -4.01575448e-02,  2.50964361e-01,  8.02520176e-01, -3.08513126e-01,\n",
      "        4.99207308e-01,  7.59270936e-01,  8.25108574e-01, -3.45748390e-01,\n",
      "        4.32786541e-01,  2.89069918e-01, -3.18707646e-01, -5.32210496e-01,\n",
      "        2.92874557e-01,  5.42356556e-01, -3.16608108e-01,  2.85884108e-01,\n",
      "       -2.84102955e-01,  3.04119413e-02, -1.22805738e-01, -5.09978826e-01,\n",
      "        8.03762338e-02, -5.75236475e-02, -2.55260375e-01, -6.53118066e-01,\n",
      "        5.05404524e-02, -4.13616054e-01, -8.72994318e-02,  6.90097700e-02,\n",
      "       -1.34059530e-01, -1.22126772e-01, -1.25994973e-02, -3.40252415e-01,\n",
      "       -6.08427210e-01,  3.14533176e-01, -3.86287624e-01, -8.72317272e-01,\n",
      "       -2.04516779e-01, -5.25624540e-01, -4.60720479e-01, -4.49154779e-01,\n",
      "        4.10135680e-01,  1.00034239e+00,  1.61869700e-01, -1.15788313e-01,\n",
      "       -5.15986266e-01, -6.78530237e-01, -3.90022174e-01,  8.28191991e-02,\n",
      "        1.98052609e-01,  7.31018285e-01,  5.39830243e-01,  9.15452373e-01,\n",
      "       -4.63148444e-02,  7.47944566e-01, -1.86520710e-01, -1.04540630e-01,\n",
      "       -3.47839257e-01, -8.78744724e-01,  8.91428811e-01, -9.56778156e-01,\n",
      "        9.00595572e-02, -7.56640618e-01,  4.60601609e-01, -1.10081097e-02,\n",
      "       -3.30171162e-01, -5.18575068e-01,  2.46198219e-01,  2.65880212e-01,\n",
      "       -4.06648723e-01, -6.70706910e-01, -5.07617555e-01, -9.77797229e-01,\n",
      "        3.13881486e-01,  1.10028358e-02, -2.27795693e-01, -3.70220751e-01,\n",
      "       -1.70934454e-01,  1.19112114e-01,  3.26440434e-01, -1.07314486e-01,\n",
      "       -2.47845470e-01, -2.79766214e-01, -1.62690394e-02, -7.92269436e-02,\n",
      "       -2.95043728e-01,  6.16861947e-01, -1.36659593e-01,  1.87872526e-01,\n",
      "       -9.95197950e-01, -6.52631111e-01, -7.35146395e-01, -4.29494860e-01,\n",
      "       -1.68548471e-02,  3.63536248e-01,  3.08683585e-01, -2.01576500e-01,\n",
      "        4.46354409e-01,  2.07481210e-01, -2.20278885e-01,  3.11968624e-02,\n",
      "       -7.62595505e-02,  4.11966439e-01, -1.98492692e-01, -1.14550652e-01,\n",
      "       -9.19081443e-01, -3.50875576e-01,  4.60141140e-01,  7.95644537e-03,\n",
      "       -1.08328761e-01, -8.42631890e-01,  3.20172519e-01,  2.57959674e-01,\n",
      "       -3.45601498e-01,  8.26903871e-01,  2.17322753e-01,  4.29658682e-01,\n",
      "        2.21465892e-01, -7.47662171e-02, -1.77956126e-02,  5.16950011e-01,\n",
      "        2.83425495e-01, -3.07288847e-01, -3.93185034e-01,  6.12731113e-01,\n",
      "       -7.92310490e-01, -2.08335162e-01, -8.13652122e-01, -6.69248649e-02,\n",
      "       -1.44318133e-01, -1.69402710e-01, -1.88494320e-01,  7.95844516e-02,\n",
      "        1.33898220e-01,  5.94312711e-01, -3.15642365e-03,  2.27780120e-01,\n",
      "       -4.14975368e-01,  7.95032374e-01, -8.17894858e-01,  3.22349714e-01,\n",
      "        2.63347357e-01, -2.98875553e-01, -1.13431543e+00, -2.88777760e-01,\n",
      "       -2.72973660e-01,  3.33751805e-01,  1.43580713e-01,  5.89197929e-01,\n",
      "        2.69921928e-01, -8.65521496e-02, -5.37278642e-01, -2.22010866e-01,\n",
      "       -1.27688966e+00,  1.47599763e-01,  2.24930876e-01, -1.65136802e-01,\n",
      "        2.28595548e-01,  1.98809074e-01,  3.75394540e-01,  3.37747110e-01,\n",
      "       -8.05250257e-01,  2.29669854e-01, -3.94675210e-01,  9.24876610e-01,\n",
      "        4.92137125e-01,  6.22586028e-01, -7.23113006e-01, -3.84426554e-01,\n",
      "       -4.33740604e-01, -8.80143685e-02, -2.35448561e-01, -9.73353364e-02,\n",
      "       -4.82271825e-02, -3.05883957e-01, -3.16739707e-01,  6.86456722e-01,\n",
      "        5.50264452e-01, -5.22181689e-01, -3.04471814e-01,  7.38613044e-01,\n",
      "        5.04242827e-02,  4.16184481e-02,  1.24991145e-01,  5.41749273e-01,\n",
      "        5.33054106e-01,  6.47526093e-01, -8.31073211e-01, -5.40138601e-01,\n",
      "        7.06906914e-01,  4.58893123e-01, -3.40101065e-01,  1.18773299e-01,\n",
      "       -7.47080733e-01, -1.08731382e-02, -1.27935055e-01, -1.07301111e-03,\n",
      "        2.19531804e-01, -3.68512206e-01, -1.70556698e-01,  3.96042964e-01,\n",
      "        5.19471574e-01, -5.08193681e-01, -4.34679857e-01, -1.86459227e-01,\n",
      "       -1.83964224e-01,  6.71968937e-01,  4.16560064e-01, -5.55499873e-01,\n",
      "       -4.42081183e-01,  3.41759055e-01,  4.17622043e-01,  7.44292624e-01]), array([-0.59411228, -0.16848393,  0.36778846,  0.43291872,  0.39798896,\n",
      "        0.632654  ,  0.37930839, -0.37571746, -0.02185994,  0.32028404,\n",
      "       -0.07712333, -0.02888589, -0.01869852,  0.00616287, -0.52815091,\n",
      "       -0.15680234, -0.17769471,  0.16652226,  0.27675149, -1.03506536,\n",
      "        0.35759568,  0.07686739, -0.31380527,  0.11575608,  0.19887446,\n",
      "       -0.03473919, -0.50074448,  0.18859139,  0.32913458,  0.30886386,\n",
      "        0.45482176,  0.1638056 , -0.13088963,  0.48306388, -0.23014806,\n",
      "        0.55255895,  0.01102958, -0.12017314,  0.18698328,  0.56335134,\n",
      "        0.12887897,  0.45288878, -0.58728182,  0.57291888,  0.15391345,\n",
      "       -0.62578862, -0.21013916,  0.48118198,  0.29250765, -0.30532233,\n",
      "       -0.14340769, -0.06354402, -0.00870335, -0.44933085, -0.89109156,\n",
      "        0.68235524,  0.12875781, -1.17812898, -0.43173744, -0.61164935,\n",
      "        0.0214109 , -0.11727047, -0.26265206,  0.00156175,  0.07980711,\n",
      "       -0.42395392,  0.11902662,  0.02589811, -0.12083728,  0.37991714,\n",
      "       -0.32360556,  0.4137254 , -0.16968021, -0.35474516, -0.20325313,\n",
      "        0.56351822,  0.00954431, -0.73374502, -0.39319365,  0.09689205,\n",
      "        0.19016718, -0.1410404 ,  0.39610762, -0.28296173,  0.43969036,\n",
      "       -0.68636442,  0.55025102,  0.18805253, -0.67551392, -0.15658287,\n",
      "        0.64355698, -0.16906228,  0.19449213,  0.8265945 ,  1.00442461,\n",
      "        0.09365994,  0.16444999,  0.42558007, -0.07184226, -0.29219011,\n",
      "       -0.40533795,  0.78993161,  0.0485728 ,  0.06006907,  0.22445102,\n",
      "       -0.13359743, -0.4159863 , -0.34849854, -0.60014077, -0.14626164,\n",
      "        0.01716097, -1.2548516 ,  0.60824925, -0.55612943, -0.20159432,\n",
      "       -0.55838487, -0.44419992, -0.03495282,  0.27352272, -0.79639053,\n",
      "       -0.08820647,  0.78742737, -0.33620701, -0.13515972, -0.35548552,\n",
      "       -0.27617896, -0.24615719, -0.9449414 ,  0.10009176,  0.61828921,\n",
      "        1.0257563 ,  0.59383409,  0.01978254, -0.22554126, -0.47989257,\n",
      "        0.90823334,  0.55222467,  0.3265885 ,  0.03467575, -0.1369124 ,\n",
      "       -0.61749686,  0.74862352,  0.1289514 , -0.00435869,  0.13324927,\n",
      "       -0.04116732,  0.25700109, -0.54182189, -0.17997788, -0.30002527,\n",
      "        0.17957934, -0.32680395,  0.09165175,  0.62612735,  0.04758089,\n",
      "        0.25828401, -0.2333414 ,  0.30308503, -0.08670381, -0.33423732,\n",
      "        0.25404178,  0.24429051, -0.19260814, -0.55188751,  0.21181495,\n",
      "        0.2547533 ,  0.36830011,  0.26421951, -0.30138293, -0.70486786,\n",
      "       -1.35656542,  0.01486989,  0.31721587,  0.79629398, -0.12579357,\n",
      "       -0.2461907 , -0.33239705, -0.0333602 , -0.55030063, -0.17938358,\n",
      "       -0.44444943, -0.32937814,  0.68180528, -0.34554592,  0.4562426 ,\n",
      "        0.2332118 , -0.42140504, -0.0474082 , -0.05912853,  0.15510482,\n",
      "        0.24959892, -0.87156411, -0.82328558,  0.38663341,  0.28711123,\n",
      "        0.45206827,  0.14300658, -0.64648581,  0.41624904,  0.78709576,\n",
      "        0.73719947,  0.69007072, -0.11850318,  0.30916745, -0.06488344,\n",
      "        0.01696882,  0.13726263,  0.15337569, -0.49257851,  0.21054677,\n",
      "       -0.2155912 ,  0.13662228, -0.5627108 , -1.07022462, -0.54983138,\n",
      "        0.70671835, -0.4599063 , -0.57045093,  0.19316121, -0.38254847,\n",
      "        0.68396279,  0.199983  , -0.06251339,  0.08808406, -0.59593373,\n",
      "        0.15978994, -0.59329207, -0.15226254,  0.70498845,  0.17589677,\n",
      "       -0.25413663, -0.64713351,  0.12469457, -0.54762835,  0.09481059,\n",
      "       -0.26486069,  0.50999507,  0.15612257, -1.16941067, -0.47966763,\n",
      "       -0.55768312,  0.55194677, -0.1304647 , -0.37059748,  0.65227922,\n",
      "       -0.07825818,  0.27297881,  0.505799  , -0.07033392, -0.20554287,\n",
      "       -0.09800016,  0.15212452,  0.3773255 ,  0.32838911,  0.21769951,\n",
      "       -0.52449979, -0.15850594, -0.59658094,  0.16599829,  0.2743232 ,\n",
      "        0.41962713,  0.30534494,  0.45896303,  0.41909168,  0.07980464,\n",
      "       -0.25161357, -0.18631337, -0.0270246 , -0.09528683, -0.58423274,\n",
      "       -0.46009584,  0.7227773 , -0.22551117,  0.90749832, -0.33111111,\n",
      "       -0.37347336,  0.57182789,  0.76345973, -0.10368553, -0.43920548,\n",
      "       -0.52076666,  0.76281352,  0.63578042,  0.02637645, -0.10344938,\n",
      "        0.12478688, -0.80199548, -0.1009852 ,  0.50728531, -0.33042341,\n",
      "       -0.27145609,  0.13451242, -0.12755699,  1.07461504, -0.48099828,\n",
      "       -0.83277758, -0.29490907,  0.86702369, -0.08025562,  0.24713864]))\n"
     ]
    }
   ],
   "source": [
    "MODEL_PATH= \"../data/data/la/model/decay-based_719.pkl\"\n",
    "vectors = pickle.load(open(MODEL_PATH, 'rb'))\n",
    "query_results(vectors, 'l', (34.1381, -118.3534))"
   ]
  },
  {
   "cell_type": "code",
   "execution_count": 68,
   "metadata": {},
   "outputs": [
    {
     "name": "stdout",
     "output_type": "stream",
     "text": [
      "(u'universal', 0.7905087471008301, 0)\n",
      "(u'terror_tram', 0.5290190577507019, 1)\n",
      "(u'season_pas', 0.500918447971344, 2)\n",
      "(u'krustyland', 0.4914461374282837, 3)\n",
      "(u'universalstudio', 0.47533226013183594, 4)\n",
      "(u'universalstudios', 0.44445180892944336, 5)\n",
      "(u'holloween', 0.43908819556236267, 6)\n",
      "(u'super_silly_fun_land', 0.4338110089302063, 7)\n",
      "(u'genblue', 0.4332640469074249, 8)\n",
      "(u'unistudios', 0.43242505192756653, 9)\n",
      "(u'backlot', 0.43058913946151733, 10)\n",
      "(u'universalhhn', 0.4293730854988098, 11)\n",
      "(u'ush', 0.4288296103477478, 12)\n",
      "(u'universalstudioshollywood', 0.4250146150588989, 13)\n",
      "(u'rakoonster', 0.41956469416618347, 14)\n",
      "(u'nbcuniversal', 0.40703290700912476, 15)\n",
      "(u'dora', 0.4041942059993744, 16)\n",
      "(u'mummy', 0.4001476466655731, 17)\n",
      "(u'coldwellbanker', 0.39004743099212646, 18)\n",
      "(u'universalcity', 0.38745737075805664, 19)\n",
      "(u'halloweenhorrornights', 0.38576143980026245, 20)\n",
      "(u'bumblebee', 0.377038836479187, 21)\n",
      "(u'hhn2014', 0.37419503927230835, 22)\n",
      "(u'universalcitywalk', 0.3674498200416565, 23)\n",
      "(u'ding', 0.36701780557632446, 24)\n",
      "(u'light_camera_action', 0.3615718483924866, 25)\n",
      "(u'terminus', 0.36121225357055664, 26)\n",
      "(u'waterworld', 0.34694886207580566, 27)\n",
      "(u'studiolife', 0.34465062618255615, 28)\n",
      "(u'despicableme', 0.3394019603729248, 29)\n"
     ]
    }
   ],
   "source": [
    "MODEL_PATH= \"../data/data/la/model/decay-based_2068.pkl\"\n",
    "vectors = pickle.load(open(MODEL_PATH, 'rb'))\n",
    "query_results(vectors, 'l', (34.1381, -118.3534))"
   ]
  },
  {
   "cell_type": "code",
   "execution_count": 69,
   "metadata": {},
   "outputs": [
    {
     "name": "stdout",
     "output_type": "stream",
     "text": [
      "(u'universal', 0.7575337886810303, 0)\n",
      "(u'krustyland', 0.47080573439598083, 1)\n",
      "(u'terror_tram', 0.4693254828453064, 2)\n",
      "(u'universalstudio', 0.46262434124946594, 3)\n",
      "(u'universalstudios', 0.4561403691768646, 4)\n",
      "(u'universalstudioshollywood', 0.44109582901000977, 5)\n",
      "(u'backlot', 0.4267364740371704, 6)\n",
      "(u'genblue', 0.42490658164024353, 7)\n",
      "(u'ush', 0.41919490694999695, 8)\n",
      "(u'nbcuniversal', 0.4026893973350525, 9)\n",
      "(u'season_pas', 0.3962883949279785, 10)\n",
      "(u'super_silly_fun_land', 0.38846153020858765, 11)\n",
      "(u'holloween', 0.38796573877334595, 12)\n",
      "(u'universalhhn', 0.38029175996780396, 13)\n",
      "(u'bumblebee', 0.3800196647644043, 14)\n",
      "(u'tram', 0.37775924801826477, 15)\n",
      "(u'unistudios', 0.36979568004608154, 16)\n",
      "(u'studiolife', 0.3640514314174652, 17)\n",
      "(u'universalcitywalk', 0.35845082998275757, 18)\n",
      "(u'mummy', 0.3576190769672394, 19)\n",
      "(u'harrypotter', 0.3545074164867401, 20)\n",
      "(u'despicableme', 0.3508577346801758, 21)\n",
      "(u'universalcity', 0.3484739065170288, 22)\n",
      "(u'coldwellbanker', 0.3483264446258545, 23)\n",
      "(u'recording', 0.3464401066303253, 24)\n",
      "(u'halloweenhorrornights', 0.3380107283592224, 25)\n",
      "(u'waterworld', 0.3362272083759308, 26)\n",
      "(u'light_camera_action', 0.3349756598472595, 27)\n",
      "(u'minion', 0.331946462392807, 28)\n",
      "(u'spongebob', 0.3207189440727234, 29)\n"
     ]
    }
   ],
   "source": [
    "MODEL_PATH= \"../data/data/la/model/decay-based_2559.pkl\"\n",
    "vectors = pickle.load(open(MODEL_PATH, 'rb'))\n",
    "query_results(vectors, 'l', (34.1381, -118.3534))"
   ]
  },
  {
   "cell_type": "code",
   "execution_count": 75,
   "metadata": {},
   "outputs": [
    {
     "name": "stdout",
     "output_type": "stream",
     "text": [
      "(u'dbistudio', 0.3972799479961395, 0)\n",
      "(u'mariolopezextra', 0.38078179955482483, 1)\n",
      "(u'happythanksgiving', 0.37280356884002686, 2)\n",
      "(u'rickymartin', 0.3558465242385864, 3)\n",
      "(u'jdrf', 0.35532623529434204, 4)\n",
      "(u'extratv', 0.3006538152694702, 5)\n"
     ]
    }
   ],
   "source": [
    "MODEL_PATH= \"../data/data/la/model/constraint-based_2559.pkl\"\n",
    "vectors = pickle.load(open(MODEL_PATH, 'rb'))\n",
    "query_results(vectors, 'l', (34.1381, -118.3534))"
   ]
  },
  {
   "cell_type": "code",
   "execution_count": 71,
   "metadata": {},
   "outputs": [
    {
     "name": "stdout",
     "output_type": "stream",
     "text": [
      "(u'universal', 0.6715844869613647, 0)\n",
      "(u'terror_tram', 0.557245135307312, 1)\n",
      "(u'universalhhn', 0.5301514267921448, 2)\n",
      "(u'halloweenhorrornights', 0.49302250146865845, 3)\n",
      "(u'universalstudioshollywood', 0.4882863163948059, 4)\n",
      "(u'rakoonster', 0.48655200004577637, 5)\n",
      "(u'universalstudios', 0.46966612339019775, 6)\n",
      "(u'avp', 0.4695361852645874, 7)\n",
      "(u'universalcity', 0.46920207142829895, 8)\n",
      "(u'minion', 0.4594593048095703, 9)\n",
      "(u'ush', 0.4569631814956665, 10)\n",
      "(u'terminus', 0.45611459016799927, 11)\n",
      "(u'nbcuniversal', 0.4467839300632477, 12)\n",
      "(u'krustyland', 0.44660571217536926, 13)\n",
      "(u'saddleranch', 0.4360644221305847, 14)\n",
      "(u'twister', 0.434400737285614, 15)\n",
      "(u'horrornights', 0.43149930238723755, 16)\n",
      "(u'dbistudio', 0.42977476119995117, 17)\n",
      "(u'universalstudio', 0.42555391788482666, 18)\n",
      "(u'universalcitywalk', 0.4136373996734619, 19)\n",
      "(u'backlot', 0.4095015823841095, 20)\n",
      "(u'citywalk', 0.40385180711746216, 21)\n",
      "(u'unistudios', 0.40267080068588257, 22)\n",
      "(u'waterworld', 0.4025879502296448, 23)\n",
      "(u'globe', 0.40088504552841187, 24)\n",
      "(u'norman', 0.4006354808807373, 25)\n",
      "(u'bates', 0.3917419910430908, 26)\n",
      "(u'holloween', 0.3887685537338257, 27)\n",
      "(u'mummy', 0.38815993070602417, 28)\n",
      "(u'coldwellbanker', 0.38731181621551514, 29)\n"
     ]
    }
   ],
   "source": [
    "MODEL_PATH= \"../data/data/la/model/constraint-based_2068.pkl\"\n",
    "vectors = pickle.load(open(MODEL_PATH, 'rb'))\n",
    "query_results(vectors, 'l', (34.1381, -118.3534))"
   ]
  },
  {
   "cell_type": "code",
   "execution_count": 72,
   "metadata": {},
   "outputs": [
    {
     "name": "stdout",
     "output_type": "stream",
     "text": [
      "(u'universal', 0.6906397938728333, 0)\n",
      "(u'terror_tram', 0.4270038902759552, 1)\n",
      "(u'universalcity', 0.42085278034210205, 2)\n",
      "(u'universalhhn', 0.4107283353805542, 3)\n",
      "(u'universalstudio', 0.3972893953323364, 4)\n",
      "(u'nbcuniversal', 0.3942984342575073, 5)\n",
      "(u'krustyland', 0.3803027868270874, 6)\n",
      "(u'universalstudioshollywood', 0.3602253794670105, 7)\n",
      "(u'minion', 0.35978952050209045, 8)\n",
      "(u'terminus', 0.35105597972869873, 9)\n",
      "(u'waterworld', 0.3498210608959198, 10)\n",
      "(u'universalstudios', 0.3486367166042328, 11)\n",
      "(u'ush', 0.34404653310775757, 12)\n",
      "(u'holloween', 0.3437834680080414, 13)\n",
      "(u'spongebob', 0.3435479998588562, 14)\n",
      "(u'unistudios', 0.33556732535362244, 15)\n",
      "(u'avp', 0.3280738294124603, 16)\n",
      "(u'megatron', 0.32787227630615234, 17)\n",
      "(u'saddleranch', 0.3168960213661194, 18)\n",
      "(u'halloweenhorrornights', 0.31585562229156494, 19)\n",
      "(u'twister', 0.3134056329727173, 20)\n",
      "(u'dbistudio', 0.3126298189163208, 21)\n",
      "(u'backlot', 0.3111978769302368, 22)\n",
      "(u'citywalk', 0.3029842674732208, 23)\n",
      "(u'rakoonster', 0.30194374918937683, 24)\n",
      "(u'backtothefuture', 0.29771897196769714, 25)\n",
      "(u'mariolopezextra', 0.29424187541007996, 26)\n",
      "(u'hhn2014', 0.28971555829048157, 27)\n",
      "(u'jon_lovitz', 0.2868819534778595, 28)\n",
      "(u'psycho', 0.28460514545440674, 29)\n"
     ]
    }
   ],
   "source": [
    "MODEL_PATH= \"../data/data/la/model/10_tfcons-based_2068.pkl\"\n",
    "vectors = pickle.load(open(MODEL_PATH, 'rb'))\n",
    "query_results(vectors, 'l', (34.1381, -118.3534))"
   ]
  },
  {
   "cell_type": "code",
   "execution_count": 76,
   "metadata": {},
   "outputs": [
    {
     "name": "stdout",
     "output_type": "stream",
     "text": [
      "(u'theforceawakens', 0.4438634514808655, 0)\n",
      "(u'samanthahoopes', 0.36245736479759216, 1)\n",
      "(u'thanksgiving2014', 0.35479262471199036, 2)\n"
     ]
    }
   ],
   "source": [
    "MODEL_PATH= \"../data/data/la/model/10_tfcons-based_2559.pkl\"\n",
    "vectors = pickle.load(open(MODEL_PATH, 'rb'))\n",
    "query_results(vectors, 'l', (34.1381, -118.3534))"
   ]
  },
  {
   "cell_type": "markdown",
   "metadata": {},
   "source": [
    "## Loss Analysis"
   ]
  },
  {
   "cell_type": "code",
   "execution_count": 79,
   "metadata": {},
   "outputs": [],
   "source": [
    "import matplotlib.pyplot as plt\n",
    "import json"
   ]
  },
  {
   "cell_type": "code",
   "execution_count": 81,
   "metadata": {},
   "outputs": [],
   "source": [
    "f = open('loss.json', 'r')\n",
    "line = f.readline()"
   ]
  },
  {
   "cell_type": "code",
   "execution_count": 86,
   "metadata": {},
   "outputs": [],
   "source": [
    "loss = [float(split) for split in line[8:-1].split(',')]"
   ]
  },
  {
   "cell_type": "code",
   "execution_count": 87,
   "metadata": {},
   "outputs": [
    {
     "data": {
      "image/png": "[encoded data removed]",
      "text/plain": [
       "<Figure size 432x288 with 1 Axes>"
      ]
     },
     "metadata": {
      "needs_background": "light"
     },
     "output_type": "display_data"
    }
   ],
   "source": [
    "plt.plot(loss)\n",
    "plt.show()"
   ]
  },
  {
   "cell_type": "code",
   "execution_count": null,
   "metadata": {},
   "outputs": [],
   "source": [
    "f = open('loss.json', 'r')\n",
    "line = f.readline()\n",
    "loss = [float(split) for split in line[1:-1].split(',')]"
   ]
  }
 ],
 "metadata": {
  "kernelspec": {
   "display_name": "Python [conda env:.conda-py2-base] *",
   "language": "python",
   "name": "conda-env-.conda-py2-base-py"
  },
  "language_info": {
   "codemirror_mode": {
    "name": "ipython",
    "version": 2
   },
   "file_extension": ".py",
   "mimetype": "text/x-python",
   "name": "python",
   "nbconvert_exporter": "python",
   "pygments_lexer": "ipython2",
   "version": "2.7.16"
  }
 },
 "nbformat": 4,
 "nbformat_minor": 2
}
